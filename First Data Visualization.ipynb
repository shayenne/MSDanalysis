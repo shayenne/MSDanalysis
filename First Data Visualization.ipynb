{
 "cells": [
  {
   "cell_type": "code",
   "execution_count": 1,
   "metadata": {
    "collapsed": true
   },
   "outputs": [],
   "source": [
    "### \n",
    "#    Data Science Project - 2017\n",
    "#    \n",
    "#    Million Song Dataset: Analysis and Correlations\n",
    "#\n",
    "#    Authors: Shayenne Moura, Thais Neubauer and Marcos Leal\n",
    "###"
   ]
  },
  {
   "cell_type": "markdown",
   "metadata": {},
   "source": [
    "# First Data Visualization\n",
    "\n",
    "We need to make a detailed description of each data used on this visualization"
   ]
  },
  {
   "cell_type": "code",
   "execution_count": 1,
   "metadata": {
    "collapsed": true
   },
   "outputs": [],
   "source": [
    "# Scrape categories shows data content and metadata\n",
    "import scrape_categories as sc\n",
    "from model import *\n",
    "import matplotlib.pyplot as plt\n",
    "%matplotlib inline"
   ]
  },
  {
   "cell_type": "code",
   "execution_count": 2,
   "metadata": {},
   "outputs": [
    {
     "data": {
      "text/plain": [
       "['__builtins__',\n",
       " '__doc__',\n",
       " '__file__',\n",
       " '__name__',\n",
       " '__package__',\n",
       " 'bs',\n",
       " 'get_possible_categories',\n",
       " 'urlopen']"
      ]
     },
     "execution_count": 2,
     "metadata": {},
     "output_type": "execute_result"
    }
   ],
   "source": [
    "dir(sc)"
   ]
  },
  {
   "cell_type": "code",
   "execution_count": 3,
   "metadata": {},
   "outputs": [
    {
     "name": "stdout",
     "output_type": "stream",
     "text": [
      "0 - artist_mbid: db92a151-1ac2-438b-bc43-b82e149ddd50 \n",
      "the musicbrainz.org ID for this artists is db9... \n",
      "\n",
      "1 - artist_mbtags: shape = (4,) \n",
      "this artist received 4 tags on musicbrainz.org \n",
      "\n",
      "2 - artist_mbtags_count: shape = (4,) \n",
      "raw tag count of the 4 tags this artist received on musicbrainz.org \n",
      "\n",
      "3 - artist_name: Rick Astley \n",
      "artist name \n",
      "\n",
      "4 - artist_playmeid: 1338 \n",
      "the ID of that artist on the service playme.com \n",
      "\n",
      "5 - artist_terms: shape = (12,) \n",
      "this artist has 12 terms (tags) from The Echo Nest \n",
      "\n",
      "6 - artist_terms_freq: shape = (12,) \n",
      "frequency of the 12 terms from The Echo Nest (number between 0 and 1) \n",
      "\n",
      "7 - artist_terms_weight: shape = (12,) \n",
      "weight of the 12 terms from The Echo Nest (number between 0 and 1) \n",
      "\n",
      "8 - audio_md5: bf53f8113508a466cd2d3fda18b06368 \n",
      "hash code of the audio used for the analysis by The Echo Nest \n",
      "\n",
      "9 - bars_confidence: shape = (99,) \n",
      "confidence value (between 0 and 1) associated with each bar by The Echo Nest \n",
      "\n",
      "10 - bars_start: shape = (99,) \n",
      "start time of each bar according to The Echo Nest, this song has 99 bars \n",
      "\n",
      "11 - beats_confidence: shape = (397,) \n",
      "confidence value (between 0 and 1) associated with each beat by The Echo Nest \n",
      "\n",
      "12 - beats_start: shape = (397,) \n",
      "start time of each beat according to The Echo Nest, this song has 397 beats \n",
      "\n",
      "13 - danceability: 0.0 \n",
      "danceability measure of this song according to The Echo Nest (between 0 and 1, 0 => not analyzed) \n",
      "\n",
      "14 - duration: 211.69587 \n",
      "duration of the track in seconds \n",
      "\n",
      "15 - end_of_fade_in: 0.139 \n",
      "time of the end of the fade in, at the beginning of the song, according to The Echo Nest \n",
      "\n",
      "16 - energy: 0.0 \n",
      "energy measure (not in the signal processing sense) according to The Echo Nest (between 0 and 1, 0 => not analyzed) \n",
      "\n",
      "17 - key: 1 \n",
      "estimation of the key the song is in by The Echo Nest \n",
      "\n",
      "18 - key_confidence: 0.324 \n",
      "confidence of the key estimation \n",
      "\n",
      "19 - loudness: -7.75 \n",
      "general loudness of the track \n",
      "\n",
      "20 - mode: 1 \n",
      "estimation of the mode the song is in by The Echo Nest \n",
      "\n",
      "21 - mode_confidence: 0.434 \n",
      "confidence of the mode estimation \n",
      "\n",
      "22 - release: Big Tunes - Back 2 The 80s \n",
      "album name from which the track was taken, some songs / tracks can come from many albums, we give only one \n",
      "\n",
      "23 - release_7digitalid: 786795 \n",
      "the ID of the release (album) on the service 7digital.com \n",
      "\n",
      "24 - sections_confidence: shape = (10,) \n",
      "confidence value (between 0 and 1) associated with each section by The Echo Nest \n",
      "\n",
      "25 - sections_start: shape = (10,) \n",
      "start time of each section according to The Echo Nest, this song has 10 sections \n",
      "\n",
      "26 - segments_confidence: shape = (935,) \n",
      "confidence value (between 0 and 1) associated with each segment by The Echo Nest \n",
      "\n",
      "27 - segments_loudness_max: shape = (935,) \n",
      "max loudness during each segment \n",
      "\n",
      "28 - segments_loudness_max_time: shape = (935,) \n",
      "time of the max loudness during each segment \n",
      "\n",
      "29 - segments_loudness_start: shape = (935,) \n",
      "loudness at the beginning of each segment \n",
      "\n",
      "30 - segments_pitches: shape = (935, 12) \n",
      "chroma features for each segment (normalized so max is 1.) \n",
      "\n",
      "31 - segments_start: shape = (935,) \n",
      "start time of each segment (~ musical event, or onset) according to The Echo Nest, this song has 935 segments \n",
      "\n",
      "32 - segments_timbre: shape = (935, 12) \n",
      "MFCC-like features for each segment \n",
      "\n",
      "33 - similar_artists: shape = (100,) \n",
      "a list of 100 artists (their Echo Nest ID) similar to Rick Astley according to The Echo Nest \n",
      "\n",
      "34 - song_hotttnesss: 0.864248830588 \n",
      "according to The Echo Nest, when downloaded (in December 2010), this song had a 'hotttnesss' of 0.8 (on a scale of 0 and 1) \n",
      "\n",
      "35 - song_id: SOCWJDB12A58A776AF \n",
      "The Echo Nest song ID, note that a song can be associated with many tracks (with very slight audio differences) \n",
      "\n",
      "36 - start_of_fade_out: 198.536 \n",
      "start time of the fade out, in seconds, at the end of the song, according to The Echo Nest \n",
      "\n",
      "37 - tatums_confidence: shape = (794,) \n",
      "confidence value (between 0 and 1) associated with each tatum by The Echo Nest \n",
      "\n",
      "38 - tatums_start: shape = (794,) \n",
      "start time of each tatum according to The Echo Nest, this song has 794 tatums \n",
      "\n",
      "39 - tempo: 113.359 \n",
      "tempo in BPM according to The Echo Nest \n",
      "\n",
      "40 - time_signature: 4 \n",
      "time signature of the song according to The Echo Nest, i.e. usual number of beats per bar \n",
      "\n",
      "41 - time_signature_confidence: 0.634 \n",
      "confidence of the time signature estimation \n",
      "\n",
      "42 - title: Never Gonna Give You Up \n",
      "song title \n",
      "\n",
      "43 - track_7digitalid: 8707738 \n",
      "the ID of this song on the service 7digital.com \n",
      "\n",
      "44 - track_id: TRAXLZU12903D05F94 \n",
      "The Echo Nest ID of this particular track on which the analysis was done \n",
      "\n",
      "45 - year: 1987 \n",
      "year when this song was released, according to musicbrainz.org \n",
      "\n"
     ]
    }
   ],
   "source": [
    "sc.get_possible_categories()"
   ]
  },
  {
   "cell_type": "code",
   "execution_count": 5,
   "metadata": {},
   "outputs": [
    {
     "name": "stdout",
     "output_type": "stream",
     "text": [
      "Data written to ./temp/song_data1.csv99% ] ==== \n",
      "duration           3.379673\n",
      "key               -0.008369\n",
      "song_hotttnesss   -0.029363\n",
      "tempo              0.411232\n",
      "time_signature    -0.590469\n",
      "dtype: float64\n",
      "                 duration       key  song_hotttnesss     tempo  time_signature\n",
      "duration         1.000000  0.015262         0.007042 -0.009968        0.111448\n",
      "key              0.015262  1.000000         0.025952  0.009821        0.003124\n",
      "song_hotttnesss  0.007042  0.025952         1.000000  0.079031        0.041059\n",
      "tempo           -0.009968  0.009821         0.079031  1.000000        0.055251\n",
      "time_signature   0.111448  0.003124         0.041059  0.055251        1.000000\n",
      "Done. Time elapsed: 0.0998840332031\n"
     ]
    }
   ],
   "source": [
    "# If you run for again, use the file created \n",
    "basic_info(categories=[\"tempo\",\"duration\",\"key\",\"time_signature\",\"song_hotttnesss\"], saved_csv=None)#\"./temp/song_data1.csv\")"
   ]
  },
  {
   "cell_type": "code",
   "execution_count": 12,
   "metadata": {},
   "outputs": [
    {
     "name": "stdout",
     "output_type": "stream",
     "text": [
      "Data written to ./temp/song_data.csv.99% ] ==== \n"
     ]
    },
    {
     "name": "stderr",
     "output_type": "stream",
     "text": [
      "/home/compmus/.local/lib/python2.7/site-packages/mpl_toolkits/basemap/__init__.py:3260: MatplotlibDeprecationWarning: The ishold function was deprecated in version 2.0.\n",
      "  b = ax.ishold()\n",
      "/home/compmus/.local/lib/python2.7/site-packages/mpl_toolkits/basemap/__init__.py:3269: MatplotlibDeprecationWarning: axes.hold is deprecated.\n",
      "    See the API Changes document (http://matplotlib.org/api/api_changes.html)\n",
      "    for more details.\n",
      "  ax.hold(b)\n"
     ]
    },
    {
     "name": "stdout",
     "output_type": "stream",
     "text": [
      "Done. Time elapsed: 22.1568899155\n"
     ]
    },
    {
     "data": {
      "text/plain": [
       "<matplotlib.figure.Figure at 0x7fad924e8dd0>"
      ]
     },
     "metadata": {},
     "output_type": "display_data"
    }
   ],
   "source": [
    "# Artist Locations from latitude/longitude\n",
    "\n",
    "# If you run for again, use the file created \n",
    "world_plot(lat=\"artist_latitude\",lon=\"artist_longitude\", saved_csv=None)#\"./temp/song_data2.csv\")"
   ]
  },
  {
   "cell_type": "code",
   "execution_count": 13,
   "metadata": {},
   "outputs": [
    {
     "name": "stdout",
     "output_type": "stream",
     "text": [
      "Data written to ./temp/song_data.csv.99% ] ==== \n",
      "Done. Time elapsed: 2.46926689148\n"
     ]
    },
    {
     "data": {
      "text/plain": [
       "<matplotlib.figure.Figure at 0x7fad92843910>"
      ]
     },
     "metadata": {},
     "output_type": "display_data"
    }
   ],
   "source": [
    "# Normalized % Frequency for each year\n",
    "\n",
    "# If you run for again, use the file created \n",
    "freq_plot(category=\"year\", saved_csv=None)#\"./temp/song_data3.csv\")"
   ]
  },
  {
   "cell_type": "code",
   "execution_count": 11,
   "metadata": {},
   "outputs": [
    {
     "name": "stdout",
     "output_type": "stream",
     "text": [
      "Data written to ./temp/song_data.csv.99% ] ==== \n",
      "Done. Time elapsed: 1.49211978912\n"
     ]
    },
    {
     "data": {
      "text/plain": [
       "<matplotlib.figure.Figure at 0x7fad928ca790>"
      ]
     },
     "metadata": {},
     "output_type": "display_data"
    }
   ],
   "source": [
    "#Duration of Songs\n",
    "\n",
    "# If you run for again, use the file created \n",
    "stacked_barplot(full=\"duration\",head_end=\"end_of_fade_in\",tail_start=\"start_of_fade_out\", saved_csv=None)#\"./temp/song_data4.csv\")"
   ]
  },
  {
   "cell_type": "code",
   "execution_count": 11,
   "metadata": {},
   "outputs": [
    {
     "name": "stdout",
     "output_type": "stream",
     "text": [
      "Data written to ./temp/song_data.csv.99% ] ==== \n"
     ]
    },
    {
     "name": "stderr",
     "output_type": "stream",
     "text": [
      "model.py:188: UserWarning: Boolean Series key will be reindexed to match DataFrame index.\n",
      "  df_x = df_clean[df[categories[0]] == x_i] # df containing all entries with x in categories[0]\n"
     ]
    },
    {
     "name": "stdout",
     "output_type": "stream",
     "text": [
      "Done. Time elapsed: 2.76592206955\n"
     ]
    },
    {
     "data": {
      "image/png": "[encoded data removed]",
      "text/plain": [
       "<matplotlib.figure.Figure at 0x7ff413cc6c90>"
      ]
     },
     "metadata": {},
     "output_type": "display_data"
    }
   ],
   "source": [
    "# Average 'artist_hotttnesss' Over Time\n",
    "\n",
    "# If you run for again, use the file created \n",
    "compare_to_average(x_cat=\"year\",y_cat=\"artist_hotttnesss\", saved_csv=None)#\"./temp/song_data5.csv\")"
   ]
  },
  {
   "cell_type": "code",
   "execution_count": 2,
   "metadata": {},
   "outputs": [
    {
     "name": "stdout",
     "output_type": "stream",
     "text": [
      "Done. Time elapsed: 0.3295309543610.00% ] ==== \n"
     ]
    },
    {
     "data": {
      "text/plain": [
       "<matplotlib.figure.Figure at 0x7f7b7b0b61d0>"
      ]
     },
     "metadata": {},
     "output_type": "display_data"
    }
   ],
   "source": [
    "# Segment Max Loudness\n",
    "\n",
    "# If you run for again, use the file created \n",
    "error_bar(categories=[\"segments_loudness_max\",\"segments_confidence\"],data_i=[0,1],sec_i=[0,100], saved_csv=None)#\"./temp/song_data6.csv\")"
   ]
  },
  {
   "cell_type": "code",
   "execution_count": 6,
   "metadata": {},
   "outputs": [
    {
     "data": {
      "text/plain": [
       "<matplotlib.figure.Figure at 0x7f6280c48310>"
      ]
     },
     "metadata": {},
     "output_type": "display_data"
    }
   ],
   "source": [
    "# Dimensionality Reduction\n",
    "\n",
    "# If you run for again, use the file created \n",
    "dr(x_categories=[\"key\",\"loudness\",\"mode\",\"tempo\",\"year\"],y_category=[\"artist_mbtags\",\"artist_mbtags_count\"],saved_csv=None)#\"./temp/song_data7.csv\")"
   ]
  },
  {
   "cell_type": "markdown",
   "metadata": {},
   "source": [
    "### Questions to evaluate the Dataset (We need to decide to apply only at the sample or all dataset)"
   ]
  },
  {
   "cell_type": "markdown",
   "metadata": {},
   "source": [
    "Q1. For each artist, what is the most commonly tagged genre?\n",
    "\n",
    "Q2. What is the average tempo across all the songs in the dataset?\n",
    "\n",
    "Q3. What is the median danceability score across all the songs in the dataset?\n",
    "\n",
    "Q4. Who are the top ten artists for fast songs (based on their tempo)?\n",
    "\n",
    "Q5. What  are top  ten  songs  based  on  their  hotness  in  each  genre? Please also \n",
    "provide the artist name and title for these songs.\n",
    "\n",
    "Q6. On a per-year basis, what is the mean variance of loudness across the songs within the dataset?\n",
    "\n",
    "Q7. How many songs does each artist have in this dataset?    \n",
    "\n",
    "Q8. What are the top ten most popular terms (genres) that songs in the dataset have been tagged with?\n",
    "\n",
    "Q9. Come up with an innovative analysis program for this dataset. For this component, think of yourself as the lead data scientist at a start-up firm. What would do with this dataset that is cool?"
   ]
  },
  {
   "cell_type": "markdown",
   "metadata": {},
   "source": [
    "### Bibliography"
   ]
  },
  {
   "cell_type": "markdown",
   "metadata": {},
   "source": [
    "Thierry Bertin-Mahieux, Daniel P.W. Ellis, Brian Whitman, and Paul Lamere. The Million Song Dataset. In Proceedings of the 12th International Society for Music Information Retrieval Conference (ISMIR 2011), 2011."
   ]
  },
  {
   "cell_type": "markdown",
   "metadata": {
    "collapsed": true
   },
   "source": [
    "CODE REFERENCE: https://github.com/eltonlaw/msdvis"
   ]
  },
  {
   "cell_type": "code",
   "execution_count": null,
   "metadata": {
    "collapsed": true
   },
   "outputs": [],
   "source": []
  }
 ],
 "metadata": {
  "kernelspec": {
   "display_name": "Python 2",
   "language": "python",
   "name": "python2"
  },
  "language_info": {
   "codemirror_mode": {
    "name": "ipython",
    "version": 2
   },
   "file_extension": ".py",
   "mimetype": "text/x-python",
   "name": "python",
   "nbconvert_exporter": "python",
   "pygments_lexer": "ipython2",
   "version": "2.7.14"
  }
 },
 "nbformat": 4,
 "nbformat_minor": 2
}
